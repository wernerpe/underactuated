{
 "cells": [
  {
   "cell_type": "markdown",
   "metadata": {
    "cell_id": "0431f095-1f1f-4891-b355-df3292eecb7d",
    "deepnote_cell_type": "markdown",
    "tags": []
   },
   "source": [
    "# Continuous Time Value Iteration for Pendulum Swing Up"
   ]
  },
  {
   "cell_type": "code",
   "execution_count": null,
   "metadata": {
    "cell_id": "29c0b32d-103d-4e74-859d-faa3069c030e",
    "deepnote_cell_height": 819,
    "deepnote_cell_type": "code",
    "deepnote_to_be_reexecuted": false,
    "execution_millis": 1693,
    "execution_start": 1645675074350,
    "source_hash": "7b55cb36",
    "tags": []
   },
   "outputs": [],
   "source": [
    "import numpy as np\n",
    "from pydrake.all import (\n",
    "    AddMultibodyPlantSceneGraph,\n",
    "    DiagramBuilder,\n",
    "    LeafSystem,\n",
    "    MeshcatVisualizer,\n",
    "    MultilayerPerceptron,\n",
    "    Parser,\n",
    "    PerceptronActivationType,\n",
    "    RandomGenerator,\n",
    "    RigidTransform,\n",
    "    RotationMatrix,\n",
    "    SceneGraph,\n",
    "    Simulator,\n",
    "    StartMeshcat,\n",
    "    ZeroOrderHold,\n",
    ")\n",
    "from pydrake.examples import PendulumGeometry, PendulumPlant\n",
    "\n",
    "from underactuated import ConfigureParser, running_as_notebook\n",
    "from underactuated.optimizers import Adam\n",
    "from underactuated.utils import running_as_test"
   ]
  },
  {
   "cell_type": "code",
   "execution_count": null,
   "metadata": {
    "cell_id": "0e3b6237-73ad-4e80-b490-4e3083c523c0",
    "deepnote_cell_height": 130.1875,
    "deepnote_cell_type": "code",
    "deepnote_to_be_reexecuted": true,
    "execution_millis": 8,
    "execution_start": 1645649043434,
    "source_hash": "a20aae47",
    "tags": []
   },
   "outputs": [],
   "source": [
    "# Start the visualizer (run this cell only once, each instance consumes a port)\n",
    "meshcat = StartMeshcat()"
   ]
  },
  {
   "cell_type": "markdown",
   "metadata": {
    "cell_id": "71c3f16d-8d84-4d94-ba86-574ce0d88ab6",
    "deepnote_cell_type": "markdown",
    "tags": []
   },
   "source": [
    "## Problem Description\n",
    "\n",
    "In this problem you will implement the continuous time, continuous action, and continuous state value iteration algorithm. This will be achieved by using a neural network to approximate the value function. We will be able to consider continuous actions due to our ability to find the optimal control input given the value function analytically.\n",
    "\n",
    "In this problem, we will work with the simple pendulum. You will be asked to implement the algorithm described in [the textbook](https://underactuated.csail.mit.edu/dp.html#continuous)\n",
    "\n",
    "We will implement the following steps:\n",
    "1) Batch evaluation of a Quadratic Function\n",
    "2) Computing the optimal input given the state dynamics and the gradient of the value function\n",
    "3) Implementing the continuous time value iteration algorithm."
   ]
  },
  {
   "cell_type": "markdown",
   "metadata": {
    "cell_id": "1fbb2759-f507-46f8-8b28-16a7466a9a83",
    "deepnote_cell_height": 82,
    "deepnote_cell_type": "markdown",
    "tags": []
   },
   "source": [
    "# Let's load up our Pendulum from Drake"
   ]
  },
  {
   "cell_type": "code",
   "execution_count": null,
   "metadata": {
    "cell_id": "f435aedc-9b62-4d7b-a846-17dd89500f8a",
    "deepnote_cell_height": 405,
    "deepnote_cell_type": "code",
    "deepnote_to_be_reexecuted": false,
    "execution_millis": 8,
    "execution_start": 1645675077318,
    "source_hash": "3049175e",
    "tags": []
   },
   "outputs": [],
   "source": [
    "plant = PendulumPlant()\n",
    "plant_context = plant.CreateDefaultContext()\n",
    "simulator = Simulator(plant)\n",
    "actuation_input_port_index = 0\n",
    "num_states = plant.num_continuous_states()\n",
    "num_inputs = 1"
   ]
  },
  {
   "cell_type": "markdown",
   "metadata": {
    "cell_id": "00004-641a9715-e464-4713-975e-6c8d9c61d651",
    "deepnote_cell_type": "markdown"
   },
   "source": [
    "First we'll set up our training data for the problem"
   ]
  },
  {
   "cell_type": "code",
   "execution_count": null,
   "metadata": {
    "cell_id": "6edd5be0-f898-4b92-8c3f-28cac01b60fe",
    "deepnote_cell_height": 603,
    "deepnote_cell_type": "code",
    "deepnote_output_heights": [
     21.1875
    ],
    "deepnote_to_be_reexecuted": false,
    "execution_millis": 2,
    "execution_start": 1645649495335,
    "source_hash": "26afb723",
    "tags": []
   },
   "outputs": [],
   "source": [
    "# set up training data. states are (theta, theta_dot)\n",
    "time_step = 0.01\n",
    "num_samples = 50\n",
    "\n",
    "theta_states = np.linspace(0, 2 * np.pi, num_samples)\n",
    "theta_dot_states = np.linspace(-10, 10, num_samples)\n",
    "\n",
    "state_grid = np.meshgrid(theta_states, theta_dot_states, indexing=\"ij\")\n",
    "state_data = np.vstack([s.flatten() for s in state_grid])\n",
    "\n",
    "# zero cost state\n",
    "target_state = np.array([np.pi, 0.0]).reshape(-1, 1)\n",
    "state_data = np.hstack([state_data, target_state])\n",
    "\n",
    "num_state_data = state_data.shape[1]\n",
    "cur_state = plant_context.get_mutable_continuous_state_vector()\n",
    "\n",
    "state_dynamics_x = np.empty((num_state_data, num_states))\n",
    "\n",
    "dstate_dynamics_du = np.empty((num_states, num_inputs, num_state_data))"
   ]
  },
  {
   "cell_type": "markdown",
   "metadata": {
    "cell_id": "00006-920a91d0-8677-490e-8079-bdb2b51f580e",
    "deepnote_cell_type": "markdown"
   },
   "source": [
    "Deep learning typically requires iterating through the same computation many times. As such a lot of effort has been put into making several of the most common operations extremely efficient. Batch matrix multiplication, or implementing matrix-vector multiplication to apply to an array of vectors is one of these operations.\n",
    "\n",
    "The cost function we choose in this problem will be quadratic and so it is important to efficiently implement the operation $x^TQx$ for a batch of vectors $x$.\n",
    "\n",
    "Implement the function compute_quadratic_cost which should be able to take in a (num_state x num_samples) size data vector and output $x^TQx$ for each $x$ in the data vector. We also will want to be able to compute this same function with respect to some fixed target state. Implement compute_state_cost which computes $(x-\\text{target\\_state})^TQ(x-\\text{target\\_state})$ for each vector in data"
   ]
  },
  {
   "cell_type": "code",
   "execution_count": null,
   "metadata": {
    "cell_id": "00007-cc3f8ff3-04b5-416d-b3db-0a310a9997aa",
    "deepnote_cell_type": "code"
   },
   "outputs": [],
   "source": [
    "def compute_quadratic_cost(Q, data):\n",
    "    # computes the cost of each sample data\n",
    "    # Q is of size (num_states x num_states)\n",
    "    # data is of size (num_states x num_samples)\n",
    "    # return a cost of size (num_samples,)\n",
    "    assert Q.shape[0] == data.shape[0]\n",
    "    if len(data.shape) != 2:\n",
    "        data = data.reshape(-1, 1)\n",
    "    cost = np.zeros(data.shape[1])  # MODIFY HERE\n",
    "    return cost\n",
    "\n",
    "\n",
    "def compute_state_cost(Q, target_state, data):\n",
    "    # compute the state cost of each sample in state\n",
    "    # Q is of size (num_states x num_states)\n",
    "    # target_state is of size (num_states x 1)\n",
    "    # data is of size (num_states x num_samples)\n",
    "    # return is of size (num_samples,)\n",
    "    if len(data.shape) != 2:\n",
    "        data = data.reshape(-1, 1)\n",
    "    return np.zeros(data.shape[1])  # MODIFY HERE\n",
    "\n",
    "\n",
    "# Do not modify\n",
    "Q = np.diag([20, 2])\n",
    "R_diag = np.array([2])"
   ]
  },
  {
   "cell_type": "markdown",
   "metadata": {
    "cell_id": "87d9726c-8af8-4ca0-9c1a-4572ebf32102",
    "deepnote_cell_height": 142.78125,
    "deepnote_cell_type": "markdown",
    "tags": []
   },
   "source": [
    "# Computing the optimal input\n",
    "\n",
    "Recall that given a control affine system, and positive definite quadratic penalty on the inputs, we can compute the optimal input with respect to our value function. Again, the optimal control input is one which we must compute for all of our state data samples and so it is important that we be able to handle a full batch of state data samples.\n",
    "\n",
    "We wish to implement the optimal control law for a control affine system given $f_2(x) = \\frac{\\partial x}{\\partial u}$, which for a single sample has dimensions num_states x num_inputs, and $\\frac{\\partial J}{\\partial x}$, which for a single sample has dimensions 1 x num_states. If we append the batch dimension to the beginning, the shapes would be N x num_states x num_inputs and N x 1 x num_states, respectively. In the code, we transpose these shapes such that the batch dimension is at the end. You can find the relevant update in [Chapter 7 of the textbook](https://underactuated.csail.mit.edu/dp.html)\n",
    "\n",
    "We will compute the optimal control law in batches. Notice that $R$ is fixed for every sample, and for simplicity we will assume that $R$ is diagonal. To compute a batch of num_samples controls, we need num_samples $\\frac{\\partial J}{\\partial x}$ vectors and num_samples $\\frac{\\partial x}{\\partial u}$ matrices. This leads to inputs dJdx of size (num_states x num_samples) and dstate_dynamics_du of size (num_states x num_inputs x num_samples).\n",
    "\n",
    "*Hint: The numpy function [einsum](https://numpy.org/doc/stable/reference/generated/numpy.einsum.html) can come in handy here.*"
   ]
  },
  {
   "cell_type": "code",
   "execution_count": null,
   "metadata": {
    "cell_id": "00010-0079d133-0bd5-48e8-a755-5dad4710bf84",
    "deepnote_cell_type": "code"
   },
   "outputs": [],
   "source": [
    "def compute_u_star(R_diag, dJdX, dstate_dynamics_du):\n",
    "    # R_diag is an array of size num_inputs that is the diagonal entries of R\n",
    "    # dJdX is of shape (num_states x num_samples)\n",
    "    # dstate_dynamics_du are (num_states x num_inputs x num_samples)\n",
    "    # return u_star of shape (num_inputs x num_samples)\n",
    "    assert dJdX.shape[1] == dstate_dynamics_du.shape[2]\n",
    "    assert dJdX.shape[0] == dstate_dynamics_du.shape[0]\n",
    "\n",
    "    return np.zeros(\n",
    "        (dstate_dynamics_du.shape[1], dstate_dynamics_du.shape[2])\n",
    "    )  # MODIFY HERE\n",
    "\n",
    "\n",
    "# This simply tests that compute_u_star can handle conformable inputs. You should not get an error here once you finish running this cell\n",
    "dJdX = np.asfortranarray(np.random.randn(num_states, num_state_data))\n",
    "dstate_dynamics_du = np.random.randn(num_states, num_inputs, num_state_data)\n",
    "u_star = compute_u_star(R_diag, dJdX, dstate_dynamics_du)"
   ]
  },
  {
   "cell_type": "markdown",
   "metadata": {
    "cell_id": "5f9b093b-733a-4b34-978d-e1f696507029",
    "deepnote_cell_height": 165.171875,
    "deepnote_cell_type": "markdown",
    "tags": []
   },
   "source": [
    "# Set up a Multilayer perceptron for the value estimate\n",
    "Drake has an implementation of the multilayer perceptron (MLP, a.ka. fully connected neural network). Here we set up a MLP with two inputs, 2 hidden layers with ReLU activation, and one output. We also set up an optimizer for changing the weights of our neural network"
   ]
  },
  {
   "cell_type": "code",
   "execution_count": null,
   "metadata": {
    "cell_id": "9b6b6033-7454-4f6c-9d12-c913691396fa",
    "deepnote_cell_height": 279,
    "deepnote_cell_type": "code",
    "deepnote_to_be_reexecuted": false,
    "execution_millis": 1,
    "execution_start": 1645675069115,
    "source_hash": "7a79e6d0",
    "tags": []
   },
   "outputs": [],
   "source": [
    "value_mlp = MultilayerPerceptron(\n",
    "    # whether to send input i to cos(x_i), sin(x_i)\n",
    "    [True, False],\n",
    "    [128, 128, 1],\n",
    "    [\n",
    "        PerceptronActivationType.kReLU,\n",
    "        PerceptronActivationType.kReLU,\n",
    "        PerceptronActivationType.kIdentity,\n",
    "    ],\n",
    ")\n",
    "# MLP is a drake system and therefore has state (the current weights). We initialize this state randomly.\n",
    "value_mlp_context = value_mlp.CreateDefaultContext()\n",
    "generator = RandomGenerator(152)\n",
    "value_mlp.SetRandomContext(value_mlp_context, generator)"
   ]
  },
  {
   "cell_type": "markdown",
   "metadata": {
    "cell_id": "26866f8c-5660-43ae-bb96-d943db2220a1",
    "deepnote_cell_height": 52.390625,
    "deepnote_cell_type": "markdown",
    "tags": []
   },
   "source": [
    "We'll print out the shapes of our layers. Make sure you understand why these layers have these shapes. "
   ]
  },
  {
   "cell_type": "code",
   "execution_count": null,
   "metadata": {
    "cell_id": "78c21fce-9861-44f1-845d-0e9b02b6b2e7",
    "deepnote_cell_height": 188.5625,
    "deepnote_cell_type": "code",
    "deepnote_to_be_reexecuted": false,
    "execution_millis": 14,
    "execution_start": 1645650782282,
    "source_hash": "f4c8fc64",
    "tags": []
   },
   "outputs": [],
   "source": [
    "print(value_mlp.GetWeights(value_mlp_context, 0).shape)\n",
    "print(value_mlp.GetWeights(value_mlp_context, 1).shape)\n",
    "print(value_mlp.GetWeights(value_mlp_context, 2).shape)"
   ]
  },
  {
   "cell_type": "markdown",
   "metadata": {},
   "source": [
    "# Evaluating a Drake MLP\n",
    "The Drake MLP class evaluates the outputs of its MLP neural networks in place. We therefore have to pre-initialize the arrays in which we want the evaluation to take place. If we want to obtain the derivatives of the outputs with respect to the inputs (assuming the network has a single output), we also need to pre-initialize these.\n",
    "\n",
    "Again, the neural network is capable of efficiently evaluating entire batches of data. This is much faster than repeatedly calling the evaluate function of the network for each input in a loop.\n",
    "\n",
    "The outputs of the network will be (num_output_units x batch_size). When there is only one output unit as is the case for the value-function approximator, we obtain a $\\frac{\\partial J}{\\partial x}$ matrix of size (num_input_units x batch size). \n",
    "\n",
    "Similarly, input data is passed as (num_input_units x batch_size).\n",
    "\n",
    "For those of you familiar with Pytorch, we remark that this convention is flipped with respect to the convention there."
   ]
  },
  {
   "cell_type": "code",
   "execution_count": null,
   "metadata": {},
   "outputs": [],
   "source": [
    "M = 30\n",
    "J = np.zeros((1, M))\n",
    "dJdX = np.asfortranarray(np.zeros((num_states, M)))\n",
    "value_mlp.BatchOutput(\n",
    "    value_mlp_context, state_data[:, np.random.randint(0, 30, M)], J, dJdX\n",
    ")"
   ]
  },
  {
   "cell_type": "markdown",
   "metadata": {
    "cell_id": "99c976bf-0b79-4a39-b9b0-fc72eaa8f8d7",
    "deepnote_cell_height": 82,
    "deepnote_cell_type": "markdown",
    "tags": []
   },
   "source": [
    "# Continuous Fitted Value Iteration (CFVI)\n",
    "Here we will implement the fitted value iteration algorithm. We provide skeleton code with the steps for implementing Value Iteration using a learned function approximator. The function proceeds in several steps:\n",
    "1) First, we sample a large, random dataset of states.\n",
    "2) Due to the control affine nature of the dynamics, we can precompute the state dynamics and $\\frac{\\partial x}{\\partial u}$ for each state in our dataset. These quantities will enable us to very rapidly compute the state transitions as our control inputs change over the course of CFVI.\n",
    "3) We will then iterate over our data in small batches to train our value function approximator. At every step we will:\n",
    "    1. Compute our optimal input given the current value function approximator\n",
    "    2. Compute the next state based on this optimal input \n",
    "    3. Compute our target network\n",
    "    4. Update our value function approximator using the target network\n",
    "\n",
    "\n",
    "Before you begin, answer the following questions to make sure you understand how the algorithm works. The majority of the CVFI code will be calculating the target network values in terms of other quantities. The target network values for the undiscounted value iteration formulation are given in [Equation 9 of Chapter 7](https://underactuated.mit.edu/dp.html) of the textbook. Note, in this problem we are doing discounted value iteration. The subscript $d$ denotes the discretized versions of the continuous time $c$ dynamics. The answers will not be graded, use the answers to help you code:\n",
    "1. We consider dynamical systems with continuous-time control affine dynamics: $\\dot{x} = f_c(x(t), u(t)) = f_1(x(t)) + f_2(x(t)) u(t)$. In the below code, `state_dynamics_x` is $f_1$ and  `dstate_dynamics_du` is $f_2$. Although we are using a continuous time dynamics $f_c$, value iteration requires a dynamics function of the form $x[n+1] = f_d(x[n], u[n])$. Using the `time_step` variable, write down the expression for $f_d$ in terms of $f_c$. Note, that we perform a [zero-order hold](https://en.wikipedia.org/wiki/Discretization#discrete_function) on $u^{\\ast}(t)$.\n",
    "2. Similarly, write the discretized cost $l_d[x[n], u^{\\ast}[n]]$ in terms of $l_c$ and $u^{\\ast}(t)$ using `time_step`. \n",
    "3. Write down your new expression for the target network values `Jd` based on Equation 9. Write down the expression using $l_d$, $f_d$, $u^{\\ast}[n]$."
   ]
  },
  {
   "cell_type": "code",
   "execution_count": null,
   "metadata": {
    "cell_id": "00017-d93493a5-57ec-4e63-a718-dabf24df3d8e",
    "deepnote_cell_type": "code"
   },
   "outputs": [],
   "source": [
    "def ContinuousFittedValueIteration(\n",
    "    plant,\n",
    "    plant_context,\n",
    "    value_mlp,\n",
    "    state_cost_function,\n",
    "    compute_u_star,\n",
    "    R_diag,\n",
    "    state_samples,\n",
    "    time_step=0.01,\n",
    "    discount_factor=1.0,\n",
    "    input_port_index=0,\n",
    "    lr=0.001,\n",
    "    minibatch=None,\n",
    "    epochs=1000,\n",
    "    optim_steps_per_epoch=25,\n",
    "    input_limits=None,\n",
    "    target_state=None,\n",
    "):\n",
    "    input_port = plant.get_input_port(input_port_index)\n",
    "    num_states = plant.num_continuous_states()\n",
    "    num_inputs = input_port.size()\n",
    "    if target_state is not None:\n",
    "        np.append(state_samples, target_state)\n",
    "\n",
    "    N = state_samples.shape[1]\n",
    "\n",
    "    # perform some checks to make sure the inputs to the function make sense\n",
    "    assert plant_context.has_only_continuous_state()\n",
    "    assert value_mlp.get_input_port().size() == num_states\n",
    "    assert value_mlp.layers()[-1] == 1\n",
    "    assert R_diag.shape == (num_inputs,)\n",
    "    assert state_samples.shape[0] == num_states\n",
    "    assert time_step > 0.0\n",
    "    assert discount_factor > 0.0 and discount_factor <= 1.0\n",
    "    if input_limits is not None:\n",
    "        assert (\n",
    "            num_inputs == 1\n",
    "        ), \"Input limits are only supported for scalar inputs (for now)\"\n",
    "        assert len(input_limits) == 2\n",
    "\n",
    "    # Seed the c++ and python random number generators.\n",
    "    generator = RandomGenerator(123)\n",
    "    np.random.seed(123)\n",
    "\n",
    "    # random initialization of our Neural Network weights\n",
    "    mlp_context = value_mlp.CreateDefaultContext()\n",
    "    value_mlp.SetRandomContext(mlp_context, generator)\n",
    "\n",
    "    state_cost = state_cost_function(state_samples)\n",
    "    state_dynamics_x = np.empty((N, num_states))\n",
    "    dstate_dynamics_du = np.empty((num_states, num_inputs, N))\n",
    "    Rinv = 1 / R_diag\n",
    "    state = plant_context.get_mutable_continuous_state_vector()\n",
    "\n",
    "    # Precompute dynamics of zero-order hold and cost.\n",
    "    for i in range(N):\n",
    "        u = np.zeros(num_inputs)\n",
    "        input_port.FixValue(plant_context, u)\n",
    "        state.SetFromVector(state_samples[:, i])\n",
    "        state_dynamics_x[i] = plant.EvalTimeDerivatives(plant_context).CopyToVector()\n",
    "        for j in range(num_inputs):\n",
    "            u[j] = 1\n",
    "            input_port.FixValue(plant_context, u)\n",
    "            dstate_dynamics_du[:, j, i] = (\n",
    "                plant.EvalTimeDerivatives(plant_context).CopyToVector()\n",
    "                - state_dynamics_x[i]\n",
    "            )\n",
    "            u[j] = 0\n",
    "\n",
    "    optimizer = Adam(value_mlp.GetMutableParameters(mlp_context), lr=lr)\n",
    "\n",
    "    if minibatch and target_state is not None:\n",
    "        M = minibatch + 1\n",
    "    elif minibatch:\n",
    "        M = minibatch\n",
    "    else:\n",
    "        M = N\n",
    "\n",
    "    J = np.zeros((1, M))\n",
    "    Jnext = np.zeros((1, M))\n",
    "    Jd = np.zeros((1, M))\n",
    "    dJdX = np.asfortranarray(np.zeros((num_states, M)))\n",
    "    dloss_dparams = np.zeros(value_mlp.num_parameters())\n",
    "\n",
    "    last_loss = np.inf\n",
    "    for epoch in range(2 if running_as_test else epochs):\n",
    "        if minibatch:\n",
    "            batch = np.random.randint(0, N, minibatch)\n",
    "            # always include the target state in the batch\n",
    "            if target_state is not None:\n",
    "                batch = np.append(batch, -1)\n",
    "        else:\n",
    "            batch = range(N)\n",
    "\n",
    "        # Compute dJdX\n",
    "        value_mlp.BatchOutput(mlp_context, state_samples[:, batch], J, dJdX)\n",
    "\n",
    "        # compute the next input\n",
    "        u_star = np.zeros(\n",
    "            (\n",
    "                dstate_dynamics_du[:, :, batch].shape[1],\n",
    "                dstate_dynamics_du[:, :, batch].shape[2],\n",
    "            )\n",
    "        )  # MODIFY HERE\n",
    "\n",
    "        # clamp to input limits\n",
    "        if input_limits is not None:\n",
    "            u_star = np.clip(u_star, input_limits[0], input_limits[1])\n",
    "\n",
    "        # compute Xnext\n",
    "        Xnext = np.zeros_like(state_samples[:, batch])  # MODIFY HERE\n",
    "\n",
    "        # compute cost\n",
    "        Cost = np.zeros(len(batch))  # MODIFY HERE\n",
    "\n",
    "        value_mlp.BatchOutput(mlp_context, Xnext, Jnext)\n",
    "\n",
    "        # Create the target network\n",
    "        Jd[:] = np.zeros(len(batch))  # MODIFY HERE\n",
    "\n",
    "        for i in range(2 if running_as_test else optim_steps_per_epoch):\n",
    "            # low pass filter target network\n",
    "            if (i + 1) % 50:\n",
    "                alpha = 5e-4\n",
    "                Jd[:] = (1 - alpha) * Jd[:] + alpha * Jnext[:]\n",
    "\n",
    "            # This does back prop\n",
    "            loss = value_mlp.BackpropagationMeanSquaredError(\n",
    "                mlp_context, state_samples[:, batch], Jd, dloss_dparams\n",
    "            )\n",
    "            optimizer.step(loss, dloss_dparams)\n",
    "        if not minibatch and np.linalg.norm(last_loss - loss) < 1e-8:\n",
    "            break\n",
    "        last_loss = loss\n",
    "        print(f\"epoch {epoch}: loss = {loss}\")\n",
    "\n",
    "    return mlp_context"
   ]
  },
  {
   "cell_type": "markdown",
   "metadata": {
    "cell_id": "00019-080867f9-cf55-4082-8a1a-44e7574fbd72",
    "deepnote_cell_type": "markdown"
   },
   "source": [
    "# Let's train our network!"
   ]
  },
  {
   "cell_type": "code",
   "execution_count": null,
   "metadata": {
    "cell_id": "53ea0488-8292-48be-8f28-771b52666ed4",
    "deepnote_cell_height": 1007,
    "deepnote_cell_type": "code",
    "deepnote_output_heights": [
     328.1875,
     328.1875,
     328.1875
    ],
    "deepnote_to_be_reexecuted": false,
    "execution_millis": 68150,
    "execution_start": 1645650846751,
    "source_hash": "30639e54",
    "tags": []
   },
   "outputs": [],
   "source": [
    "from functools import partial\n",
    "\n",
    "state_cost_function = partial(compute_state_cost, Q, target_state)\n",
    "input_limits = [-2, 2]\n",
    "\n",
    "# cartpole CVI\n",
    "value_mlp_context = ContinuousFittedValueIteration(\n",
    "    plant,\n",
    "    plant_context,\n",
    "    value_mlp,\n",
    "    state_cost_function,\n",
    "    compute_u_star,\n",
    "    R_diag,\n",
    "    state_data,\n",
    "    time_step=time_step,\n",
    "    discount_factor=0.999,\n",
    "    input_port_index=0,\n",
    "    lr=1e-4,\n",
    "    minibatch=64,\n",
    "    epochs=300,\n",
    "    optim_steps_per_epoch=100,\n",
    "    input_limits=input_limits,\n",
    "    target_state=None,\n",
    ")"
   ]
  },
  {
   "cell_type": "markdown",
   "metadata": {
    "cell_id": "6adcc73c-f8fe-4808-b72c-170b4c26cdba",
    "deepnote_cell_type": "markdown",
    "tags": []
   },
   "source": [
    "## Lets now build our controller"
   ]
  },
  {
   "cell_type": "code",
   "execution_count": null,
   "metadata": {
    "cell_id": "30c2b5a4-3a04-4676-a35d-5f1c9c61d439",
    "deepnote_cell_height": 531,
    "deepnote_cell_type": "code",
    "deepnote_to_be_reexecuted": false,
    "execution_millis": 21,
    "execution_start": 1645650916453,
    "source_hash": "150be29f",
    "tags": []
   },
   "outputs": [],
   "source": [
    "# We build a Drake system to wire our controller to the Drake simulator\n",
    "\n",
    "\n",
    "class ContinuousFittedValueIterationPolicyComputeUStar(LeafSystem):\n",
    "    def __init__(\n",
    "        self,\n",
    "        plant,\n",
    "        value_mlp,\n",
    "        value_mlp_context,\n",
    "        R_diag,\n",
    "        compute_u_star,\n",
    "        input_port_index=0,\n",
    "        input_limits=None,\n",
    "    ):\n",
    "        LeafSystem.__init__(self)\n",
    "\n",
    "        self.num_plant_states = value_mlp.get_input_port().size()\n",
    "        self._plant = plant\n",
    "        self._plant_context = plant.CreateDefaultContext()\n",
    "\n",
    "        self.value_mlp = value_mlp\n",
    "        self.value_mlp_context = value_mlp_context\n",
    "        self.J = np.zeros((1, 1))\n",
    "        self.dJdX = np.asfortranarray(np.zeros((self.num_plant_states, 1)))\n",
    "\n",
    "        self.compute_u_star = compute_u_star\n",
    "\n",
    "        self.Rinv = 1 / R_diag\n",
    "        self.R_diag = R_diag\n",
    "        self.input_limits = input_limits\n",
    "        self.DeclareVectorInputPort(\"plant_state\", self.num_plant_states)\n",
    "        self._plant_input_port = self._plant.get_input_port(input_port_index)\n",
    "        self.DeclareVectorOutputPort(\n",
    "            \"output\", self._plant_input_port.size(), self.CalcOutput\n",
    "        )\n",
    "\n",
    "    def CalcOutput(self, context, output):\n",
    "        num_inputs = self._plant_input_port.size()\n",
    "        u = np.zeros(num_inputs)\n",
    "        plant_state = self.get_input_port().Eval(context)\n",
    "\n",
    "        self.value_mlp.BatchOutput(\n",
    "            self.value_mlp_context,\n",
    "            np.atleast_2d(plant_state).T,\n",
    "            self.J,\n",
    "            self.dJdX,\n",
    "        )\n",
    "\n",
    "        self._plant_context.SetContinuousState(plant_state)\n",
    "        self._plant_input_port.FixValue(self._plant_context, u)\n",
    "        state_dynamics_x = self._plant.EvalTimeDerivatives(\n",
    "            self._plant_context\n",
    "        ).CopyToVector()\n",
    "\n",
    "        dstate_dynamics_du = np.empty((self.num_plant_states, num_inputs, 1))\n",
    "        for i in range(num_inputs):\n",
    "            u[i] = 1\n",
    "            self._plant_input_port.FixValue(self._plant_context, u)\n",
    "            dstate_dynamics_du[:, :, i] = (\n",
    "                self._plant.EvalTimeDerivatives(self._plant_context).CopyToVector()\n",
    "                - state_dynamics_x\n",
    "            ).reshape(-1, 1)\n",
    "            u[i] = 0\n",
    "\n",
    "        u_star = self.compute_u_star(self.R_diag, self.dJdX, dstate_dynamics_du)[:, 0]\n",
    "        if self.input_limits is not None:\n",
    "            u_star = np.clip(u_star, self.input_limits[0], self.input_limits[1])\n",
    "        for i in range(num_inputs):\n",
    "            output.SetAtIndex(i, u_star[i])"
   ]
  },
  {
   "cell_type": "code",
   "execution_count": null,
   "metadata": {
    "cell_id": "985a5c34-2126-4ad1-9206-e30ab776b842",
    "deepnote_cell_height": 405,
    "deepnote_cell_type": "code",
    "deepnote_output_heights": [
     404.9375,
     155.5
    ],
    "deepnote_to_be_reexecuted": false,
    "execution_millis": 14,
    "execution_start": 1645651770904,
    "source_hash": "9eaaaeb1",
    "tags": []
   },
   "outputs": [],
   "source": [
    "# We build up a system diagram to run the closed loop simulation of our\n",
    "# pendulum swingup controller initialize controller and plant\n",
    "closed_loop_builder = DiagramBuilder()\n",
    "plant_cl, scene_graph_cl = closed_loop_builder.AddSystem(\n",
    "    PendulumPlant()\n",
    "), closed_loop_builder.AddSystem(SceneGraph())\n",
    "\n",
    "controller_sys = ContinuousFittedValueIterationPolicyComputeUStar(\n",
    "    plant_cl,\n",
    "    value_mlp,\n",
    "    value_mlp_context,\n",
    "    R_diag,\n",
    "    compute_u_star,\n",
    "    input_limits=input_limits,\n",
    ")\n",
    "\n",
    "PendulumGeometry.AddToBuilder(\n",
    "    closed_loop_builder, plant_cl.get_state_output_port(), scene_graph_cl\n",
    ")\n",
    "\n",
    "controller = closed_loop_builder.AddSystem(controller_sys)\n",
    "# we assume a zero-order hold between time steps\n",
    "zoh = closed_loop_builder.AddSystem(ZeroOrderHold(time_step, 1))\n",
    "\n",
    "# wire all the systems together\n",
    "closed_loop_builder.Connect(plant_cl.get_output_port(), controller.get_input_port())\n",
    "closed_loop_builder.Connect(controller.get_output_port(), zoh.get_input_port())\n",
    "closed_loop_builder.Connect(zoh.get_output_port(), plant_cl.get_input_port())\n",
    "\n",
    "meshcat.Delete()\n",
    "meshcat.Set2dRenderMode(\n",
    "    X_WC=RigidTransform(RotationMatrix.MakeZRotation(np.pi), [0, 1, 0])\n",
    ")\n",
    "vis = MeshcatVisualizer.AddToBuilder(closed_loop_builder, scene_graph_cl, meshcat)\n",
    "\n",
    "diagram_closed_loop = closed_loop_builder.Build()\n",
    "\n",
    "simulator = Simulator(diagram_closed_loop)\n",
    "simulator_context = simulator.get_mutable_context()"
   ]
  },
  {
   "cell_type": "markdown",
   "metadata": {
    "cell_id": "3f6c8032-8af4-4458-992c-0d3687dfc4b3",
    "deepnote_cell_type": "markdown",
    "tags": []
   },
   "source": [
    "## Pendulum swingup simulation\n",
    "Now watch to see whether your fitted value iteration achieved the task of swinging up the pendulum"
   ]
  },
  {
   "cell_type": "code",
   "execution_count": null,
   "metadata": {
    "cell_id": "a0b26af6-a3ac-4fbc-993b-982c88803bb0",
    "deepnote_cell_height": 244.1875,
    "deepnote_cell_type": "code",
    "deepnote_output_heights": [
     21.1875
    ],
    "deepnote_to_be_reexecuted": false,
    "execution_millis": 25390,
    "execution_start": 1645652252169,
    "source_hash": "b233975c",
    "tags": []
   },
   "outputs": [],
   "source": [
    "simulator.set_target_realtime_rate(1.0 if running_as_notebook else 0)\n",
    "num_sim = 1 if running_as_test else 5\n",
    "for i in range(num_sim):\n",
    "    duration = 0.1 if running_as_test else 5.0\n",
    "    simulator_context.SetTime(0.0)\n",
    "    simulator_context.SetContinuousState(np.array([2 * np.pi * np.random.rand(), 0]))\n",
    "    simulator.Initialize()\n",
    "    simulator.AdvanceTo(duration)"
   ]
  },
  {
   "cell_type": "code",
   "execution_count": null,
   "metadata": {
    "cell_id": "4389a26b-046b-4afc-b502-988971eb35f9",
    "deepnote_cell_type": "code",
    "deepnote_to_be_reexecuted": false,
    "execution_millis": 100018,
    "execution_start": 1645653206845,
    "source_hash": "d0914cf3",
    "tags": []
   },
   "outputs": [],
   "source": [
    "from underactuated.exercises.dp.test_pendulum_cvi import TestPendulumCVI\n",
    "from underactuated.exercises.grader import Grader\n",
    "\n",
    "Grader.grade_output([TestPendulumCVI], [locals()], \"results.json\")\n",
    "Grader.print_test_results(\"results.json\")"
   ]
  },
  {
   "cell_type": "markdown",
   "metadata": {
    "cell_id": "4c28395d-e1af-43fb-8bb7-396c35dbb270",
    "deepnote_cell_type": "markdown",
    "tags": []
   },
   "source": [
    "## Here you can try to tune parameters to get the Cartpole to swing up.\n",
    "\n",
    "Note that the notebook is not graded after this point. This is here so you can have guidance to play with another system"
   ]
  },
  {
   "cell_type": "markdown",
   "metadata": {
    "cell_id": "e2df9fc3-f51f-47c3-8a80-f523315177ce",
    "deepnote_cell_type": "markdown",
    "tags": []
   },
   "source": [
    "## Let's build up the Cartpole system"
   ]
  },
  {
   "cell_type": "code",
   "execution_count": null,
   "metadata": {
    "cell_id": "e8593e95-36d3-4fb6-8886-81ff2e20c1ee",
    "deepnote_cell_type": "code",
    "deepnote_to_be_reexecuted": true,
    "execution_millis": 1,
    "execution_start": 1645635374379,
    "source_hash": "caa70e6d",
    "tags": []
   },
   "outputs": [],
   "source": [
    "# load_cartpole()\n",
    "builder = DiagramBuilder()\n",
    "cart_plant, cart_scene_graph = AddMultibodyPlantSceneGraph(builder, time_step=0.0)\n",
    "parser = Parser(cart_plant)\n",
    "ConfigureParser(parser)\n",
    "parser.AddModelsFromUrl(\"package://underactuated/models/cartpole.urdf\")\n",
    "cart_plant.Finalize()\n",
    "cart_plant_context = cart_plant.CreateDefaultContext()\n",
    "\n",
    "cart_diagram = builder.Build()\n",
    "\n",
    "num_states = cart_plant.num_continuous_states()\n",
    "\n",
    "\n",
    "cart_actuation_port_index = 3\n",
    "num_inputs = cart_plant.get_input_port(cart_actuation_port_index)"
   ]
  },
  {
   "cell_type": "markdown",
   "metadata": {
    "cell_id": "ab13d61f-d256-4ad7-8704-1759bd9202ce",
    "deepnote_cell_type": "markdown",
    "tags": []
   },
   "source": [
    "## Cartpole data set up\n",
    "Notice that the cartpole has 4 states and so it is much trickier to sample a representative data set. Here we have given you some starter code for making a grid of each dimension."
   ]
  },
  {
   "cell_type": "code",
   "execution_count": null,
   "metadata": {
    "cell_id": "d7ff07f0-dcad-40f7-877f-dced8e8183cc",
    "deepnote_cell_type": "code",
    "deepnote_to_be_reexecuted": true,
    "execution_millis": 170,
    "execution_start": 1645634547647,
    "source_hash": "5db1dcfb",
    "tags": []
   },
   "outputs": [],
   "source": [
    "# set up training data. states are (x, theta, x_dot, theta_dot)\n",
    "num_samples = 3\n",
    "x_states_cart = np.linspace(-2, 2, num_samples)\n",
    "theta_states_cart = np.linspace(0, 2 * np.pi, 50)\n",
    "x_dot_states_cart = np.linspace(-10, 10, num_samples)\n",
    "theta_dot_states_cart = np.linspace(-10, 10, num_samples)\n",
    "state_grid_cart = np.meshgrid(\n",
    "    x_states_cart,\n",
    "    theta_states_cart,\n",
    "    x_dot_states_cart,\n",
    "    theta_dot_states_cart,\n",
    "    indexing=\"ij\",\n",
    ")\n",
    "state_data_cart = np.vstack([s.flatten() for s in state_grid_cart])\n",
    "\n",
    "# zero cost state\n",
    "cart_target_state = np.array([0, np.pi, 0, 0]).reshape(-1, 1)\n",
    "\n",
    "Q_cart = np.diag([0.1, 20, 1, 1])\n",
    "R_cart = np.array([2])"
   ]
  },
  {
   "cell_type": "code",
   "execution_count": null,
   "metadata": {
    "cell_id": "b95044ba-eb75-4a95-88c7-a484b88f5527",
    "deepnote_cell_type": "code",
    "deepnote_to_be_reexecuted": true,
    "execution_millis": 2,
    "execution_start": 1645634553127,
    "source_hash": "8eb1004f",
    "tags": []
   },
   "outputs": [],
   "source": [
    "# A neural network for the cartpole\n",
    "cart_value_mlp = MultilayerPerceptron(\n",
    "    [False, True, False, False],\n",
    "    [128, 128, 1],\n",
    "    [\n",
    "        PerceptronActivationType.kReLU,\n",
    "        PerceptronActivationType.kReLU,\n",
    "        #  PerceptronActivationType.kReLU,\n",
    "        PerceptronActivationType.kIdentity,\n",
    "    ],\n",
    ")"
   ]
  },
  {
   "cell_type": "code",
   "execution_count": null,
   "metadata": {
    "cell_id": "7f64db43-b67f-4dfd-b398-0c8376b26a1a",
    "deepnote_cell_type": "code",
    "deepnote_to_be_reexecuted": true,
    "execution_millis": 1761008,
    "execution_start": 1645636184226,
    "source_hash": "736824f3",
    "tags": []
   },
   "outputs": [],
   "source": [
    "state_cost_function_cart = partial(compute_state_cost, Q_cart, cart_target_state)\n",
    "# time to train the neural network\n",
    "cart_value_mlp_context = ContinuousFittedValueIteration(\n",
    "    cart_plant,\n",
    "    cart_plant_context,\n",
    "    cart_value_mlp,\n",
    "    state_cost_function_cart,\n",
    "    compute_u_star,\n",
    "    R_cart,\n",
    "    state_data_cart,\n",
    "    time_step=0.01,\n",
    "    discount_factor=0.9999,\n",
    "    input_port_index=cart_actuation_port_index,\n",
    "    lr=1e-4,\n",
    "    minibatch=64,\n",
    "    epochs=2,\n",
    "    optim_steps_per_epoch=100,\n",
    "    input_limits=None,\n",
    "    target_state=target_state,\n",
    ")"
   ]
  },
  {
   "cell_type": "markdown",
   "metadata": {
    "cell_id": "6e7bb12b-0fae-467f-928e-2d23b0bf8f5d",
    "deepnote_cell_type": "markdown",
    "tags": []
   },
   "source": [
    "## Cartpole Swingup\n",
    "Now look and see whether your fitted value iteration actually manages to implement the cartpole swingup"
   ]
  },
  {
   "cell_type": "code",
   "execution_count": null,
   "metadata": {
    "cell_id": "0b6402b0-9b3f-4b14-91b7-07d9f6b5bd48",
    "deepnote_cell_type": "code",
    "deepnote_to_be_reexecuted": true,
    "execution_millis": 0,
    "execution_start": 1645638861629,
    "source_hash": "64d418b",
    "tags": []
   },
   "outputs": [],
   "source": [
    "# initialize controller and plant\n",
    "closed_loop_builder_cart = DiagramBuilder()\n",
    "\n",
    "cart_plant_cl, cart_scene_graph_cl = AddMultibodyPlantSceneGraph(\n",
    "    closed_loop_builder_cart, time_step=0.0\n",
    ")\n",
    "\n",
    "parser = Parser(cart_plant_cl)\n",
    "ConfigureParser(parser)\n",
    "parser.AddModelsFromUrl(\"package://underactuated/models/cartpole.urdf\")\n",
    "cart_plant_cl.Finalize()\n",
    "cart_plant_context_cl = cart_plant_cl.CreateDefaultContext()\n",
    "cart_controller_sys = ContinuousFittedValueIterationPolicyComputeUStar(\n",
    "    cart_plant_cl,\n",
    "    cart_value_mlp,\n",
    "    cart_value_mlp_context,\n",
    "    R_diag,\n",
    "    compute_u_star,\n",
    "    input_port_index=cart_actuation_port_index,\n",
    ")\n",
    "\n",
    "\n",
    "cart_controller = closed_loop_builder_cart.AddSystem(cart_controller_sys)\n",
    "# we assume a zero-order hold between time steps\n",
    "zoh_cart = closed_loop_builder_cart.AddSystem(ZeroOrderHold(time_step, 1))\n",
    "\n",
    "# wire all the systems together\n",
    "closed_loop_builder_cart.Connect(\n",
    "    cart_plant_cl.get_state_output_port(), cart_controller.get_input_port()\n",
    ")\n",
    "closed_loop_builder_cart.Connect(\n",
    "    cart_controller.get_output_port(), zoh_cart.get_input_port()\n",
    ")\n",
    "closed_loop_builder_cart.Connect(\n",
    "    zoh_cart.get_output_port(),\n",
    "    cart_plant_cl.get_input_port(cart_actuation_port_index),\n",
    ")\n",
    "\n",
    "meshcat.Delete()\n",
    "meshcat.Set2dRenderMode(xmin=-2.5, xmax=2.5, ymin=-1.0, ymax=2.5)\n",
    "vis = MeshcatVisualizer.AddToBuilder(\n",
    "    closed_loop_builder_cart, cart_scene_graph_cl, meshcat\n",
    ")\n",
    "\n",
    "cart_diagram_closed_loop = closed_loop_builder_cart.Build()\n",
    "\n",
    "cart_simulator = Simulator(cart_diagram_closed_loop)\n",
    "cart_simulator_context = cart_simulator.get_mutable_context()"
   ]
  },
  {
   "cell_type": "code",
   "execution_count": null,
   "metadata": {
    "cell_id": "75403dbf-8105-40db-9036-e6cc375142fc",
    "deepnote_cell_type": "code",
    "deepnote_to_be_reexecuted": true,
    "execution_millis": 9978,
    "execution_start": 1645638876892,
    "source_hash": "37af6691",
    "tags": []
   },
   "outputs": [],
   "source": [
    "cart_simulator.set_target_realtime_rate(1.0 if running_as_notebook else 0)\n",
    "duration = 0.1 if running_as_test else 10.0\n",
    "for i in range(1):\n",
    "    cart_simulator_context.SetTime(0.0)\n",
    "    cart_simulator_context.SetContinuousState([0, 0, 0, 0])\n",
    "    cart_simulator.Initialize()\n",
    "    cart_simulator.AdvanceTo(duration)"
   ]
  },
  {
   "cell_type": "markdown",
   "metadata": {
    "created_in_deepnote_cell": true,
    "deepnote_cell_type": "markdown",
    "tags": []
   },
   "source": [
    "<a style='text-decoration:none;line-height:16px;display:flex;color:#5B5B62;padding:10px;justify-content:end;' href='https://deepnote.com?utm_source=created-in-deepnote-cell&projectId=fa188137-16d0-464a-b123-e362769707cc' target=\"_blank\">\n",
    "<img alt='Created in deepnote.com' style='display:inline;max-height:16px;margin:0px;margin-right:7.5px;' src='data:image/svg+xml;base64,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' > </img>\n",
    "Created in <span style='font-weight:600;margin-left:4px;'>Deepnote</span></a>"
   ]
  }
 ],
 "metadata": {
  "celltoolbar": "Tags",
  "deepnote": {
   "is_reactive": false
  },
  "deepnote_execution_queue": [],
  "deepnote_notebook_id": "b2f3145b-4c0a-46f8-bab8-ece5bf99374d",
  "kernelspec": {
   "display_name": "Python 3 (ipykernel)",
   "language": "python",
   "name": "python3"
  },
  "language_info": {
   "codemirror_mode": {
    "name": "ipython",
    "version": 3
   },
   "file_extension": ".py",
   "mimetype": "text/x-python",
   "name": "python",
   "nbconvert_exporter": "python",
   "pygments_lexer": "ipython3",
   "version": "3.9.12"
  },
  "vscode": {
   "interpreter": {
    "hash": "b0fa6594d8f4cbf19f97940f81e996739fb7646882a419484c72d19e05852a7e"
   }
  }
 },
 "nbformat": 4,
 "nbformat_minor": 2
}
